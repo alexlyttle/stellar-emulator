{
 "cells": [
  {
   "cell_type": "code",
   "execution_count": 1,
   "id": "e1514c74",
   "metadata": {},
   "outputs": [],
   "source": [
    "import numpy as np\n",
    "import pandas as pd\n",
    "import seaborn as sns\n",
    "import matplotlib.pyplot as plt"
   ]
  },
  {
   "cell_type": "code",
   "execution_count": 5,
   "id": "0c993349",
   "metadata": {},
   "outputs": [
    {
     "name": "stdout",
     "output_type": "stream",
     "text": [
      "2.12.0\n"
     ]
    }
   ],
   "source": [
    "import tensorflow as tf\n",
    "\n",
    "from tensorflow import keras\n",
    "from tensorflow.keras import layers\n",
    "from tensorflow.keras import optimizers\n",
    "from tensorflow.keras import callbacks\n",
    "\n",
    "print(tf.__version__)"
   ]
  },
  {
   "cell_type": "code",
   "execution_count": 3,
   "id": "5d180b4b",
   "metadata": {},
   "outputs": [],
   "source": [
    "import keras_tuner as kt"
   ]
  },
  {
   "cell_type": "code",
   "execution_count": 4,
   "id": "277263cf",
   "metadata": {},
   "outputs": [],
   "source": [
    "from eggman.grid import luminosity, log_surface_gravity, calculate_eep"
   ]
  },
  {
   "cell_type": "code",
   "execution_count": null,
   "id": "478e237b",
   "metadata": {},
   "outputs": [],
   "source": [
    "# TODO: define normalizer, num_labels, and rescaler"
   ]
  },
  {
   "cell_type": "code",
   "execution_count": null,
   "id": "b60342ea",
   "metadata": {},
   "outputs": [],
   "source": [
    "def build_model(hp):\n",
    "    units = hp.Int(\"units_per_layer\", min_value=32, max_value=512, step=32)\n",
    "    num_layers = hp.Int(\"hidden_layers\", min_value=3, max_value=8, step=1)\n",
    "    model = tf.keras.Sequential(\n",
    "        [normalizer] +\n",
    "        [layers.Dense(units, \"elu\") for _ in range(num_layers)] +\n",
    "        [layers.Dense(num_labels), rescaler]\n",
    "    )\n",
    "    \n",
    "    \n",
    "    learning_rate = hp.Choice('learning_rate', values=[1e-2, 1e-3, 1e-4])\n",
    "    opt = optimizers.Adam(learning_rate=learning_rate, beta_1=0.9, beta_2=0.999)\n",
    "    loss = 'mean_squared_error'\n",
    "\n",
    "    model.compile(opt, loss=loss)\n",
    "    return model"
   ]
  },
  {
   "cell_type": "code",
   "execution_count": null,
   "id": "36bd89d1",
   "metadata": {},
   "outputs": [],
   "source": [
    "tuner = kt.Hyperband(\n",
    "    build_model,\n",
    "    objective='val_loss',\n",
    "    max_epochs=100,\n",
    "    factor=3,\n",
    "    directory='logs',\n",
    "    project_name='stellar-emulator'\n",
    ")"
   ]
  },
  {
   "cell_type": "code",
   "execution_count": null,
   "id": "4ffa1763",
   "metadata": {},
   "outputs": [],
   "source": [
    "stop_early = callbacks.EarlyStopping(monitor='val_loss', patience=5)"
   ]
  },
  {
   "cell_type": "code",
   "execution_count": null,
   "id": "5d3c9345",
   "metadata": {},
   "outputs": [],
   "source": [
    "epochs = 50\n",
    "batch_size = 2048"
   ]
  },
  {
   "cell_type": "code",
   "execution_count": null,
   "id": "f79d2cb9",
   "metadata": {},
   "outputs": [],
   "source": [
    "tuner.search(\n",
    "    img_train,\n",
    "    label_train,\n",
    "    epochs=epochs,\n",
    "    batch_size=batch_size,\n",
    "    validation_split=0.2,\n",
    "    callbacks=[stop_early]\n",
    ")"
   ]
  }
 ],
 "metadata": {
  "kernelspec": {
   "display_name": "Python (tensorflow)",
   "language": "python",
   "name": "conda-env-tensorflow-py"
  },
  "language_info": {
   "codemirror_mode": {
    "name": "ipython",
    "version": 3
   },
   "file_extension": ".py",
   "mimetype": "text/x-python",
   "name": "python",
   "nbconvert_exporter": "python",
   "pygments_lexer": "ipython3",
   "version": "3.10.11"
  }
 },
 "nbformat": 4,
 "nbformat_minor": 5
}
